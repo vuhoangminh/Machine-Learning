{
 "cells": [
  {
   "cell_type": "markdown",
   "metadata": {},
   "source": [
    "# Hacking the Python API for Caffe\n",
    "\n",
    "Often, when doing some advanced experiments with Caffe, a function or two are missing in the python API. This tutorial will cover typical ways in which you can add a function, or parameters, to the pycaffe API."
   ]
  },
  {
   "cell_type": "markdown",
   "metadata": {},
   "source": [
    "This tutorial will not have many runnable code examples, because it relies on a modification of the caffe code, which makes it unpractical."
   ]
  },
  {
   "cell_type": "markdown",
   "metadata": {},
   "source": [
    "## Caffe organization\n",
    "\n",
    "The repository is organized as such:\n",
    "\n",
    "- `src`\n",
    "  - `caffe`: C++/CUDA implementation of caffe\n",
    "    - `layers`: layer definitions\n",
    "    - `solvers`: different solver implementations\n",
    "    - `test`: C++ unit tests\n",
    "- `include`\n",
    "  - `caffe`: C++ headers\n",
    "    - `layers`: layer declarations\n",
    "    - `test`: headers for the tests\n",
    "- `python`\n",
    "  - misc command-line tools\n",
    "  - `caffe`: Caffe module implementation\n",
    "    - `__init__.py`: module code, run on import, for declarations\n",
    "    - `_caffe.cpp`: Python/C++ bindings, with Boost::Python\n",
    "    - `io.py`: various input/output features\n",
    "    - `net_spec.py`: implementation of the net specification object\n",
    "    - `pycaffe.py`: Python-specific Caffe code\n",
    "    - `test`: Python unit tests\n",
    "    "
   ]
  },
  {
   "cell_type": "markdown",
   "metadata": {},
   "source": [
    "## Adding a pure python function\n",
    "\n",
    "### To a module\n",
    "\n",
    "Adding a function to a submodule (e.g. `caffe.io`) is very simple, just add the function in the `python/caffe/io.py` file.\n",
    "\n",
    "Adding it to the `caffe` module is slightly more involved: you have to modify `python/caffe/__init__.py` to make sure that it is imported into the scope of the module.\n",
    "\n",
    "### To a class\n",
    "\n",
    "To add a python-implemented function to a class, add it in `pycaffe.py`. Thanks to python's very lax typing system, you can just write `<class>.<function> = my_function`. You have the example of `Net`:\n",
    "\n",
    "```python\n",
    "def _Net_forward(self, blobs=None, start=None, end=None, **kwargs):\n",
    "    ...\n",
    "    \n",
    "Net.forward = _Net_forward\n",
    "```\n",
    "\n",
    "This adds the possibility of running `net.forward()` with a caffe net. Note that the first argument of `_Net_forward` is `self`, the net the function is called on.\n",
    "\n",
    "To make it a property (field) rather than a function (e.g. `blobs`), your function must take only one argument, `self`, and either be annotated with `@property`, or assigned with the property function (e.g. `top_names`):\n",
    "\n",
    "```python\n",
    "# This function will be called when accessing net.blobs\n",
    "@property\n",
    "def _Net_blobs(self):\n",
    "    ...\n",
    "\n",
    "class _Net_IdNameWrapper:\n",
    "    \"\"\"\n",
    "    A simple wrapper that allows the ids propery to be accessed as a dict\n",
    "    indexed by names. Used for top and bottom names\n",
    "    \"\"\"\n",
    "    def __init__(self, net, func):\n",
    "        ...\n",
    "\n",
    "# Set the field `blobs` to call _Net_blobs\n",
    "Net.blobs = _Net_blobs\n",
    "# Set the field `top_names` to call that lambda, and get an instance of _NetIdNameWrapper\n",
    "Net.top_names = property(lambda n: _Net_IdNameWrapper(n, Net._top_ids))\n",
    "```\n",
    "\n",
    "If the class you want to modify is not in pycaffe, simply import it at the top from `_caffe`, and adapt `__init__.py` to import it from the right place"
   ]
  },
  {
   "cell_type": "markdown",
   "metadata": {},
   "source": [
    "## Adding a binding to a C++ function\n",
    "\n",
    "Often, simply adding a python wrapper is not enough, and you will need to call directly a C++ function:\n",
    "\n",
    "- To access implementation details, such as private fields\n",
    "- For better performance\n",
    "\n",
    "In order to do that, you will need to add the binding to `python/caffe/_caffe.cpp`. At the end of the file, all the classes are defined, with their fields and methods bound to C++ fields/methods.\n",
    "\n",
    "A simple field declaration will look like this (in the Blob definition):\n",
    "\n",
    "```C++\n",
    ".add_property(\"num\", &Blob<Dtype>::num)\n",
    "```\n",
    "\n",
    "This will bind the field `num` of the python `Blob` class to call the `num()` function of the C++ `Blob<Dtype>` class.\n",
    "\n",
    "The same syntax with `.def` instead of `.add_property` will yield a method instead of a field. You can implement the function in C++ and bind it directly (see `net.save`):\n",
    "\n",
    "```C++\n",
    "# Declare the function\n",
    "void Net_Save(const Net<Dtype>& net, string filename) {\n",
    "    ...\n",
    "}\n",
    "\n",
    "...\n",
    "\n",
    "bp::class_<Net<Dtype>>(\"Net\", bp::no_init)\n",
    "# Now we can call net.save(file)\n",
    ".def(\"save\", &Net_Save)\n",
    "```\n",
    "\n",
    "More complex matters (overloaded functions, return by reference, memory management, ...) require a bit of knowledge of Boost::Python (http://www.boost.org/doc/libs/1_58_0/libs/python/doc/tutorial/doc/html/index.html). Usually, looking at the examples around will provide the needed documentation.\n",
    "\n",
    "**Important:** As you changed the C++ code, you will have to recompile before running your code (`make pycaffe`)."
   ]
  },
  {
   "cell_type": "markdown",
   "metadata": {},
   "source": [
    "## Contributing\n",
    "\n",
    "Now that you have improved the `pycaffe` interface, it's time to give back to the community! You are using open source code, take some time to contribute!\n",
    "\n",
    "The first step is to clean up your code, trim what's unnecessary, make sure you are under the 80 columns limit, and that you are not using anything specific to either Python 2 or 3.\n",
    "\n",
    "Next, you will want to add some tests to make sure that your code behaves correctly, and that if someone breaks it, it will show. If you changed some C++ code, add a test in `src/caffe/test`, and for Python it's in `python/caffe/test`.\n",
    "\n",
    "Once you have that, make sure you are on top of the current `master` branch of the repository, clean up your commits (`git rebase --interactive master` can help you), and push to your repository/branch. Then simply create a pull request on github, and you'll be set!"
   ]
  }
 ],
 "metadata": {
  "kernelspec": {
   "display_name": "Python 2",
   "language": "python",
   "name": "python2"
  },
  "language_info": {
   "codemirror_mode": {
    "name": "ipython",
    "version": 2
   },
   "file_extension": ".py",
   "mimetype": "text/x-python",
   "name": "python",
   "nbconvert_exporter": "python",
   "pygments_lexer": "ipython2",
   "version": "2.7.5"
  }
 },
 "nbformat": 4,
 "nbformat_minor": 0
}
